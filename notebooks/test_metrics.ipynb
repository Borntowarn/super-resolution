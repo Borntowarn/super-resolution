{
 "cells": [
  {
   "cell_type": "code",
   "execution_count": 1,
   "metadata": {},
   "outputs": [],
   "source": [
    "import cv2\n",
    "import numpy as np"
   ]
  },
  {
   "cell_type": "code",
   "execution_count": 2,
   "metadata": {},
   "outputs": [],
   "source": [
    "def vid2np(path):\n",
    "    frames = []\n",
    "    video = cv2.VideoCapture(path)\n",
    "\n",
    "    cap = cv2.VideoCapture(path)\n",
    "    ret = True\n",
    "    while ret:\n",
    "        ret, img = cap.read() # read one frame from the 'capture' object; img is (H, W, C)\n",
    "        if ret:\n",
    "            frames.append(img)\n",
    "    video = np.stack(frames, axis=0) # dimensions (T, H, W, C)\n",
    "    return video"
   ]
  },
  {
   "cell_type": "code",
   "execution_count": 40,
   "metadata": {},
   "outputs": [],
   "source": [
    "gt = vid2np('0_480.mp4')"
   ]
  },
  {
   "cell_type": "code",
   "execution_count": 41,
   "metadata": {},
   "outputs": [],
   "source": [
    "up = vid2np('0_480_finetunedx2.mp4')"
   ]
  },
  {
   "cell_type": "code",
   "execution_count": 42,
   "metadata": {},
   "outputs": [
    {
     "data": {
      "text/plain": [
       "(3600, 480, 856, 3)"
      ]
     },
     "execution_count": 42,
     "metadata": {},
     "output_type": "execute_result"
    }
   ],
   "source": [
    "gt.shape"
   ]
  },
  {
   "cell_type": "code",
   "execution_count": 43,
   "metadata": {},
   "outputs": [
    {
     "data": {
      "text/plain": [
       "(3600, 480, 856, 3)"
      ]
     },
     "execution_count": 43,
     "metadata": {},
     "output_type": "execute_result"
    }
   ],
   "source": [
    "up.shape"
   ]
  },
  {
   "cell_type": "code",
   "execution_count": 44,
   "metadata": {},
   "outputs": [],
   "source": [
    "from skimage.metrics import peak_signal_noise_ratio, structural_similarity\n",
    "import numpy as np\n",
    "\n",
    "def PSNR(vid1, vid2):\n",
    "    return np.mean([peak_signal_noise_ratio(image_true, image_test) for image_true, image_test in zip(vid1, vid2)])\n",
    "\n",
    "\n",
    "def SSIM(vid1, vid2):\n",
    "    return np.mean([structural_similarity(im1, im2, channel_axis=-1) for im1, im2 in zip(vid1, vid2)])"
   ]
  },
  {
   "cell_type": "code",
   "execution_count": 45,
   "metadata": {},
   "outputs": [
    {
     "data": {
      "text/plain": [
       "25.248254601145696"
      ]
     },
     "execution_count": 45,
     "metadata": {},
     "output_type": "execute_result"
    }
   ],
   "source": [
    "PSNR(gt, up)"
   ]
  },
  {
   "cell_type": "code",
   "execution_count": 46,
   "metadata": {},
   "outputs": [
    {
     "data": {
      "text/plain": [
       "0.8133833047115111"
      ]
     },
     "execution_count": 46,
     "metadata": {},
     "output_type": "execute_result"
    }
   ],
   "source": [
    "SSIM(gt, up)"
   ]
  },
  {
   "cell_type": "markdown",
   "metadata": {},
   "source": [
    "### Finetuned RealESRGANx2:\n",
    "\n",
    "PSNR: 25.248\n",
    "\n",
    "SSIM: 0.813\n",
    "\n",
    "Скорость обработки 70с"
   ]
  },
  {
   "cell_type": "markdown",
   "metadata": {},
   "source": [
    "### RealESRGANx4\n",
    "PSNR: 30.679 \\\n",
    "SSIM: 0.897 \\\n",
    "Скорость обработки 1.30м"
   ]
  },
  {
   "cell_type": "markdown",
   "metadata": {},
   "source": [
    "### SRCNN (baseline):\n",
    "PSNR: 24.593 \\\n",
    "SSIM: 0.712 \\\n",
    "Скорость обработки 30с"
   ]
  },
  {
   "cell_type": "markdown",
   "metadata": {},
   "source": [
    "### SRCNN (baseline)\n",
    "PSNR: 24.593 \\\n",
    "SSIM: 0.712 \\\n",
    "Скорость обработки 30с"
   ]
  }
 ],
 "metadata": {
  "kernelspec": {
   "display_name": "Python 3",
   "language": "python",
   "name": "python3"
  },
  "language_info": {
   "codemirror_mode": {
    "name": "ipython",
    "version": 3
   },
   "file_extension": ".py",
   "mimetype": "text/x-python",
   "name": "python",
   "nbconvert_exporter": "python",
   "pygments_lexer": "ipython3",
   "version": "3.10.11"
  },
  "orig_nbformat": 4
 },
 "nbformat": 4,
 "nbformat_minor": 2
}
