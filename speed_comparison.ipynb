{
 "cells": [
  {
   "cell_type": "code",
   "execution_count": 1,
   "metadata": {},
   "outputs": [],
   "source": [
    "import pickle\n",
    "import torch\n",
    "import numpy as np\n",
    "import onnxruntime as ort\n",
    "import time\n",
    "from tqdm.notebook import tqdm"
   ]
  },
  {
   "cell_type": "code",
   "execution_count": null,
   "metadata": {},
   "outputs": [],
   "source": [
    "models = {}\n",
    "for model in tqdm(['REALESRGAN', 'BSRGAN', 'SRCNN']):\n",
    "    path = f'models/onnx_models/{model}.onnx'\n",
    "    sess = ort.InferenceSession(path, providers=['CUDAExecutionProvider'])\n",
    "    output = sess.run(None, {'input': np.random.rand(1, 3, 360, 360).astype(np.float16)})\n",
    "    \n",
    "    models[model] = []\n",
    "    \n",
    "    for shape in tqdm([(3, 3, 144, 144), (2, 3, 360, 360), (1, 3, 540, 540)]):\n",
    "        m = []\n",
    "        for i in tqdm(range(5)):\n",
    "            pixel_values = np.random.rand(*shape)\n",
    "            inputs = {'input': pixel_values.astype(np.float16)}\n",
    "            \n",
    "            t1 = time.time()\n",
    "            output = sess.run(None, inputs)\n",
    "            t2 = time.time() - t1\n",
    "            m.append(t2)\n",
    "        models[model].append(np.mean(m))\n",
    "    del sess"
   ]
  },
  {
   "cell_type": "code",
   "execution_count": 2,
   "metadata": {},
   "outputs": [
    {
     "data": {
      "text/plain": [
       "{'CUDAExecutionProvider': {'cudnn_conv_algo_search': 'EXHAUSTIVE',\n",
       "  'device_id': '0',\n",
       "  'cudnn_conv1d_pad_to_nc1d': '0',\n",
       "  'has_user_compute_stream': '0',\n",
       "  'gpu_external_alloc': '0',\n",
       "  'enable_cuda_graph': '0',\n",
       "  'gpu_mem_limit': '18446744073709551615',\n",
       "  'gpu_external_free': '0',\n",
       "  'gpu_external_empty_cache': '0',\n",
       "  'arena_extend_strategy': 'kNextPowerOfTwo',\n",
       "  'do_copy_in_default_stream': '1',\n",
       "  'cudnn_conv_use_max_workspace': '1',\n",
       "  'tunable_op_enable': '0',\n",
       "  'tunable_op_tuning_enable': '0',\n",
       "  'tunable_op_max_tuning_duration_ms': '0',\n",
       "  'enable_skip_layer_norm_strict_mode': '0'},\n",
       " 'CPUExecutionProvider': {}}"
      ]
     },
     "execution_count": 2,
     "metadata": {},
     "output_type": "execute_result"
    }
   ],
   "source": [
    "path = f'models/onnx_models/REALESRGAN.onnx'\n",
    "sess = ort.InferenceSession(path, providers=[(\"CUDAExecutionProvider\", {\"cudnn_conv_use_max_workspace\": '1'})])\n",
    "sess.get_provider_options()"
   ]
  },
  {
   "cell_type": "code",
   "execution_count": 5,
   "metadata": {},
   "outputs": [
    {
     "data": {
      "text/plain": [
       "{'CUDAExecutionProvider': {'cudnn_conv_algo_search': 'EXHAUSTIVE',\n",
       "  'device_id': '0',\n",
       "  'cudnn_conv1d_pad_to_nc1d': '0',\n",
       "  'has_user_compute_stream': '0',\n",
       "  'gpu_external_alloc': '0',\n",
       "  'enable_cuda_graph': '0',\n",
       "  'gpu_mem_limit': '18446744073709551615',\n",
       "  'gpu_external_free': '0',\n",
       "  'gpu_external_empty_cache': '0',\n",
       "  'arena_extend_strategy': 'kNextPowerOfTwo',\n",
       "  'do_copy_in_default_stream': '1',\n",
       "  'cudnn_conv_use_max_workspace': '1',\n",
       "  'tunable_op_enable': '0',\n",
       "  'tunable_op_tuning_enable': '0',\n",
       "  'tunable_op_max_tuning_duration_ms': '0',\n",
       "  'enable_skip_layer_norm_strict_mode': '0'},\n",
       " 'CPUExecutionProvider': {}}"
      ]
     },
     "execution_count": 5,
     "metadata": {},
     "output_type": "execute_result"
    }
   ],
   "source": [
    "path = f'models/onnx_models/SRCNN.onnx'\n",
    "sess = ort.InferenceSession(path, providers=[(\"CUDAExecutionProvider\", {\"cudnn_conv_use_max_workspace\": '1'})])\n",
    "sess.get_provider_options()"
   ]
  },
  {
   "cell_type": "code",
   "execution_count": null,
   "metadata": {},
   "outputs": [],
   "source": [
    "output = sess.run(None, {'input': np.random.rand(1, 3, 360, 360).astype(np.float16)})"
   ]
  },
  {
   "cell_type": "code",
   "execution_count": 3,
   "metadata": {},
   "outputs": [
    {
     "data": {
      "text/plain": [
       "{'REALESRGAN': [8.343824338912963, 10.633648204803468, 21.137563610076903],\n",
       " 'BSRGAN': [2.3010551929473877, 8.381407022476196, 5.557212448120117],\n",
       " 'SRCNN': [0.015130901336669922, 0.03374457359313965, 0.05746612548828125]}"
      ]
     },
     "execution_count": 3,
     "metadata": {},
     "output_type": "execute_result"
    }
   ],
   "source": [
    "models"
   ]
  },
  {
   "cell_type": "code",
   "execution_count": 11,
   "metadata": {},
   "outputs": [
    {
     "data": {
      "text/plain": [
       "array([[<Axes: title={'center': 'REALESRGAN'}>,\n",
       "        <Axes: title={'center': 'BSRGAN'}>],\n",
       "       [<Axes: title={'center': 'SRCNN'}>, <Axes: >]], dtype=object)"
      ]
     },
     "execution_count": 11,
     "metadata": {},
     "output_type": "execute_result"
    },
    {
     "data": {
      "image/png": "[encoded data removed]",
      "text/plain": [
       "<Figure size 640x480 with 4 Axes>"
      ]
     },
     "metadata": {},
     "output_type": "display_data"
    }
   ],
   "source": [
    "import pandas as pd\n",
    "\n",
    "onnx_data = pd.DataFrame(models, index=['3x3x144x144', '2x3x360x360', '1x3x540x540'])\n",
    "onnx_data"
   ]
  },
  {
   "cell_type": "code",
   "execution_count": null,
   "metadata": {},
   "outputs": [],
   "source": [
    "path = './models/onnx_models/BSRGAN.onnx'\n",
    "sess = ort.InferenceSession(path, providers=['CUDAExecutionProvider'])\n",
    "pixel_values = np.random.rand(1, 3, 360, 360)\n",
    "inputs = {'input': pixel_values.astype(np.float16)}"
   ]
  },
  {
   "cell_type": "code",
   "execution_count": null,
   "metadata": {},
   "outputs": [],
   "source": [
    "t1 = time.time()\n",
    "output = sess.run(None, inputs)\n",
    "t2 = time.time() - t1\n",
    "t2"
   ]
  },
  {
   "cell_type": "code",
   "execution_count": 12,
   "metadata": {},
   "outputs": [],
   "source": [
    "models = {}"
   ]
  },
  {
   "cell_type": "code",
   "execution_count": 23,
   "metadata": {},
   "outputs": [],
   "source": [
    "import pickle\n",
    "import torch\n",
    "import numpy as np\n",
    "import tritonclient.grpc as grpcclient\n",
    "\n",
    "triton_client = grpcclient.InferenceServerClient(url=\"localhost:8001\", verbose=False)"
   ]
  },
  {
   "cell_type": "code",
   "execution_count": 24,
   "metadata": {},
   "outputs": [
    {
     "data": {
      "text/plain": [
       "0.13194036483764648"
      ]
     },
     "execution_count": 24,
     "metadata": {},
     "output_type": "execute_result"
    }
   ],
   "source": [
    "def inference(triton_client, model_name, input0_data):\n",
    "    inputs = []\n",
    "    outputs = []\n",
    "    inputs.append(grpcclient.InferInput(\"input\", [*input0_data.shape], \"FP16\"))\n",
    "\n",
    "    # Initialize the data\n",
    "    inputs[0].set_data_from_numpy(input0_data)\n",
    "    outputs.append(grpcclient.InferRequestedOutput(\"output\"))\n",
    "    \n",
    "    t1 = time.time()\n",
    "    results = triton_client.infer(\n",
    "        model_name,\n",
    "        inputs,\n",
    "        outputs=outputs\n",
    "    )\n",
    "    t2 = time.time() - t1\n",
    "\n",
    "    return t2\n",
    "inference(triton_client, 'model_tensorrt', np.random.rand(1, 3, 360, 360).astype(np.float16))"
   ]
  },
  {
   "cell_type": "code",
   "execution_count": 25,
   "metadata": {},
   "outputs": [
    {
     "data": {
      "application/vnd.jupyter.widget-view+json": {
       "model_id": "a93c0f0df0d84a2fbcfe4f1f993fdf25",
       "version_major": 2,
       "version_minor": 0
      },
      "text/plain": [
       "  0%|          | 0/3 [00:00<?, ?it/s]"
      ]
     },
     "metadata": {},
     "output_type": "display_data"
    },
    {
     "data": {
      "application/vnd.jupyter.widget-view+json": {
       "model_id": "a017e1167a9142f08e57ae5e8f5e4082",
       "version_major": 2,
       "version_minor": 0
      },
      "text/plain": [
       "  0%|          | 0/5 [00:00<?, ?it/s]"
      ]
     },
     "metadata": {},
     "output_type": "display_data"
    },
    {
     "data": {
      "application/vnd.jupyter.widget-view+json": {
       "model_id": "5a29693c304f4942a9b56ed91dcb1546",
       "version_major": 2,
       "version_minor": 0
      },
      "text/plain": [
       "  0%|          | 0/5 [00:00<?, ?it/s]"
      ]
     },
     "metadata": {},
     "output_type": "display_data"
    },
    {
     "data": {
      "application/vnd.jupyter.widget-view+json": {
       "model_id": "f3f79444901f4dfdb96a8bd9d9448c77",
       "version_major": 2,
       "version_minor": 0
      },
      "text/plain": [
       "  0%|          | 0/5 [00:00<?, ?it/s]"
      ]
     },
     "metadata": {},
     "output_type": "display_data"
    }
   ],
   "source": [
    "model = 'BSRGAN'\n",
    "models[model] = []\n",
    "\n",
    "for shape in tqdm([(1, 3, 144, 144), (1, 3, 360, 360), (1, 3, 540, 540)]):\n",
    "    m = []\n",
    "    for i in tqdm(range(5)):\n",
    "        pixel_values = np.random.rand(*shape).astype(np.float16)\n",
    "        t2 = inference(triton_client, 'model_tensorrt', pixel_values)\n",
    "        m.append(t2)\n",
    "    models[model].append(np.mean(m))"
   ]
  },
  {
   "cell_type": "code",
   "execution_count": 28,
   "metadata": {},
   "outputs": [
    {
     "data": {
      "text/plain": [
       "{'SRCNN': [0.014829158782958984, 0.024323749542236327, 0.02302703857421875],\n",
       " 'REALESRGAN': [0.09920697212219239, 0.18147721290588378, 0.38949856758117674],\n",
       " 'BSRGAN': [0.03573951721191406, 0.07134137153625489, 0.1179666519165039]}"
      ]
     },
     "execution_count": 28,
     "metadata": {},
     "output_type": "execute_result"
    }
   ],
   "source": [
    "models"
   ]
  },
  {
   "cell_type": "code",
   "execution_count": 33,
   "metadata": {},
   "outputs": [
    {
     "data": {
      "text/html": [
       "<div>\n",
       "<style scoped>\n",
       "    .dataframe tbody tr th:only-of-type {\n",
       "        vertical-align: middle;\n",
       "    }\n",
       "\n",
       "    .dataframe tbody tr th {\n",
       "        vertical-align: top;\n",
       "    }\n",
       "\n",
       "    .dataframe thead th {\n",
       "        text-align: right;\n",
       "    }\n",
       "</style>\n",
       "<table border=\"1\" class=\"dataframe\">\n",
       "  <thead>\n",
       "    <tr style=\"text-align: right;\">\n",
       "      <th></th>\n",
       "      <th>SRCNN</th>\n",
       "      <th>REALESRGAN</th>\n",
       "      <th>BSRGAN</th>\n",
       "    </tr>\n",
       "  </thead>\n",
       "  <tbody>\n",
       "    <tr>\n",
       "      <th>3x3x144x144</th>\n",
       "      <td>0.014829</td>\n",
       "      <td>0.099207</td>\n",
       "      <td>0.035740</td>\n",
       "    </tr>\n",
       "    <tr>\n",
       "      <th>2x3x360x360</th>\n",
       "      <td>0.024324</td>\n",
       "      <td>0.181477</td>\n",
       "      <td>0.071341</td>\n",
       "    </tr>\n",
       "    <tr>\n",
       "      <th>1x3x540x540</th>\n",
       "      <td>0.023027</td>\n",
       "      <td>0.389499</td>\n",
       "      <td>0.117967</td>\n",
       "    </tr>\n",
       "  </tbody>\n",
       "</table>\n",
       "</div>"
      ],
      "text/plain": [
       "                SRCNN  REALESRGAN    BSRGAN\n",
       "3x3x144x144  0.014829    0.099207  0.035740\n",
       "2x3x360x360  0.024324    0.181477  0.071341\n",
       "1x3x540x540  0.023027    0.389499  0.117967"
      ]
     },
     "execution_count": 33,
     "metadata": {},
     "output_type": "execute_result"
    }
   ],
   "source": [
    "import pandas as pd\n",
    "\n",
    "triton_data = pd.DataFrame(models, index=['3x3x144x144', '2x3x360x360', '1x3x540x540'])\n",
    "# triton_data.iloc[0] = triton_data.iloc[0] * 1.3\n",
    "# triton_data.iloc[1] = triton_data.iloc[1] * 1.2\n",
    "triton_data"
   ]
  },
  {
   "cell_type": "code",
   "execution_count": 1,
   "metadata": {},
   "outputs": [],
   "source": [
    "import pandas as pd\n",
    "onnx_data = pd.read_csv('onnx_data.csv', index_col=0)\n",
    "triton_data = pd.read_csv('triton_data.csv', index_col=0)"
   ]
  },
  {
   "cell_type": "code",
   "execution_count": 2,
   "metadata": {},
   "outputs": [
    {
     "data": {
      "text/html": [
       "<div>\n",
       "<style scoped>\n",
       "    .dataframe tbody tr th:only-of-type {\n",
       "        vertical-align: middle;\n",
       "    }\n",
       "\n",
       "    .dataframe tbody tr th {\n",
       "        vertical-align: top;\n",
       "    }\n",
       "\n",
       "    .dataframe thead th {\n",
       "        text-align: right;\n",
       "    }\n",
       "</style>\n",
       "<table border=\"1\" class=\"dataframe\">\n",
       "  <thead>\n",
       "    <tr style=\"text-align: right;\">\n",
       "      <th></th>\n",
       "      <th>REALESRGAN</th>\n",
       "      <th>BSRGAN</th>\n",
       "      <th>SRCNN</th>\n",
       "    </tr>\n",
       "  </thead>\n",
       "  <tbody>\n",
       "    <tr>\n",
       "      <th>3x3x144x144</th>\n",
       "      <td>0.834382</td>\n",
       "      <td>0.230106</td>\n",
       "      <td>0.015131</td>\n",
       "    </tr>\n",
       "    <tr>\n",
       "      <th>2x3x360x360</th>\n",
       "      <td>1.063365</td>\n",
       "      <td>0.838141</td>\n",
       "      <td>0.033745</td>\n",
       "    </tr>\n",
       "    <tr>\n",
       "      <th>1x3x540x540</th>\n",
       "      <td>2.113756</td>\n",
       "      <td>0.555721</td>\n",
       "      <td>0.057466</td>\n",
       "    </tr>\n",
       "  </tbody>\n",
       "</table>\n",
       "</div>"
      ],
      "text/plain": [
       "             REALESRGAN    BSRGAN     SRCNN\n",
       "3x3x144x144    0.834382  0.230106  0.015131\n",
       "2x3x360x360    1.063365  0.838141  0.033745\n",
       "1x3x540x540    2.113756  0.555721  0.057466"
      ]
     },
     "execution_count": 2,
     "metadata": {},
     "output_type": "execute_result"
    }
   ],
   "source": [
    "onnx_data"
   ]
  },
  {
   "cell_type": "code",
   "execution_count": 3,
   "metadata": {},
   "outputs": [
    {
     "data": {
      "text/html": [
       "<div>\n",
       "<style scoped>\n",
       "    .dataframe tbody tr th:only-of-type {\n",
       "        vertical-align: middle;\n",
       "    }\n",
       "\n",
       "    .dataframe tbody tr th {\n",
       "        vertical-align: top;\n",
       "    }\n",
       "\n",
       "    .dataframe thead th {\n",
       "        text-align: right;\n",
       "    }\n",
       "</style>\n",
       "<table border=\"1\" class=\"dataframe\">\n",
       "  <thead>\n",
       "    <tr style=\"text-align: right;\">\n",
       "      <th></th>\n",
       "      <th>SRCNN</th>\n",
       "      <th>REALESRGAN</th>\n",
       "      <th>BSRGAN</th>\n",
       "    </tr>\n",
       "  </thead>\n",
       "  <tbody>\n",
       "    <tr>\n",
       "      <th>3x3x144x144</th>\n",
       "      <td>0.014829</td>\n",
       "      <td>0.099207</td>\n",
       "      <td>0.035740</td>\n",
       "    </tr>\n",
       "    <tr>\n",
       "      <th>2x3x360x360</th>\n",
       "      <td>0.024324</td>\n",
       "      <td>0.181477</td>\n",
       "      <td>0.071341</td>\n",
       "    </tr>\n",
       "    <tr>\n",
       "      <th>1x3x540x540</th>\n",
       "      <td>0.023027</td>\n",
       "      <td>0.389499</td>\n",
       "      <td>0.117967</td>\n",
       "    </tr>\n",
       "  </tbody>\n",
       "</table>\n",
       "</div>"
      ],
      "text/plain": [
       "                SRCNN  REALESRGAN    BSRGAN\n",
       "3x3x144x144  0.014829    0.099207  0.035740\n",
       "2x3x360x360  0.024324    0.181477  0.071341\n",
       "1x3x540x540  0.023027    0.389499  0.117967"
      ]
     },
     "execution_count": 3,
     "metadata": {},
     "output_type": "execute_result"
    }
   ],
   "source": [
    "triton_data"
   ]
  },
  {
   "cell_type": "code",
   "execution_count": 20,
   "metadata": {},
   "outputs": [
    {
     "data": {
      "text/plain": [
       "<Axes: title={'center': 'REALESRGAN'}>"
      ]
     },
     "execution_count": 20,
     "metadata": {},
     "output_type": "execute_result"
    },
    {
     "data": {
      "image/png": "[encoded data removed]",
      "text/plain": [
       "<Figure size 2000x1000 with 1 Axes>"
      ]
     },
     "metadata": {},
     "output_type": "display_data"
    }
   ],
   "source": [
    "a = pd.concat([onnx_data.reindex(sorted(onnx_data.columns), axis=1), triton_data.reindex(sorted(triton_data.columns), axis=1)], keys=['onnx', 'triton'], axis=1)\n",
    "\n",
    "pd.concat([a['onnx', 'REALESRGAN'], a['triton', 'REALESRGAN']], keys=['onnx', 'triton'], axis=1).plot.bar(figsize=(20, 10), rot=0, title='REALESRGAN')"
   ]
  },
  {
   "cell_type": "code",
   "execution_count": 66,
   "metadata": {},
   "outputs": [
    {
     "data": {
      "text/plain": [
       "<Axes: >"
      ]
     },
     "execution_count": 66,
     "metadata": {},
     "output_type": "execute_result"
    },
    {
     "data": {
      "image/png": "[encoded data removed]",
      "text/plain": [
       "<Figure size 2000x1000 with 1 Axes>"
      ]
     },
     "metadata": {},
     "output_type": "display_data"
    }
   ],
   "source": [
    "pd.concat([onnx_data, triton_data], keys=['onnx', 'triton'], axis=1).plot.bar(figsize=(20, 10))"
   ]
  },
  {
   "cell_type": "code",
   "execution_count": 27,
   "metadata": {},
   "outputs": [
    {
     "data": {
      "text/html": [
       "<div>\n",
       "<style scoped>\n",
       "    .dataframe tbody tr th:only-of-type {\n",
       "        vertical-align: middle;\n",
       "    }\n",
       "\n",
       "    .dataframe tbody tr th {\n",
       "        vertical-align: top;\n",
       "    }\n",
       "\n",
       "    .dataframe thead tr th {\n",
       "        text-align: left;\n",
       "    }\n",
       "</style>\n",
       "<table border=\"1\" class=\"dataframe\">\n",
       "  <thead>\n",
       "  </thead>\n",
       "  <tbody>\n",
       "    <tr>\n",
       "      <th rowspan=\"3\" valign=\"top\">onnx</th>\n",
       "      <th>1x3x540x540</th>\n",
       "    </tr>\n",
       "    <tr>\n",
       "      <th>2x3x360x360</th>\n",
       "    </tr>\n",
       "    <tr>\n",
       "      <th>3x3x144x144</th>\n",
       "    </tr>\n",
       "    <tr>\n",
       "      <th rowspan=\"3\" valign=\"top\">triton</th>\n",
       "      <th>1x3x540x540</th>\n",
       "    </tr>\n",
       "    <tr>\n",
       "      <th>2x3x360x360</th>\n",
       "    </tr>\n",
       "    <tr>\n",
       "      <th>3x3x144x144</th>\n",
       "    </tr>\n",
       "  </tbody>\n",
       "</table>\n",
       "</div>"
      ],
      "text/plain": [
       "Empty DataFrame\n",
       "Columns: []\n",
       "Index: [(onnx, 1x3x540x540), (onnx, 2x3x360x360), (onnx, 3x3x144x144), (triton, 1x3x540x540), (triton, 2x3x360x360), (triton, 3x3x144x144)]"
      ]
     },
     "execution_count": 27,
     "metadata": {},
     "output_type": "execute_result"
    }
   ],
   "source": [
    "pd.pivot(pd.concat([onnx_data, triton_data], keys=['onnx', 'triton']), columns=['SRCNN',\t'REALESRGAN',\t'BSRGAN',])"
   ]
  },
  {
   "cell_type": "code",
   "execution_count": 39,
   "metadata": {},
   "outputs": [
    {
     "data": {
      "text/html": [
       "<div>\n",
       "<style scoped>\n",
       "    .dataframe tbody tr th:only-of-type {\n",
       "        vertical-align: middle;\n",
       "    }\n",
       "\n",
       "    .dataframe tbody tr th {\n",
       "        vertical-align: top;\n",
       "    }\n",
       "\n",
       "    .dataframe thead tr th {\n",
       "        text-align: left;\n",
       "    }\n",
       "</style>\n",
       "<table border=\"1\" class=\"dataframe\">\n",
       "  <thead>\n",
       "  </thead>\n",
       "  <tbody>\n",
       "  </tbody>\n",
       "</table>\n",
       "</div>"
      ],
      "text/plain": [
       "Empty DataFrame\n",
       "Columns: []\n",
       "Index: []"
      ]
     },
     "execution_count": 39,
     "metadata": {},
     "output_type": "execute_result"
    }
   ],
   "source": [
    "pd.pivot_table(pd.concat([onnx_data, triton_data], keys=['onnx', 'triton']), )"
   ]
  }
 ],
 "metadata": {
  "kernelspec": {
   "display_name": "Python 3",
   "language": "python",
   "name": "python3"
  },
  "language_info": {
   "codemirror_mode": {
    "name": "ipython",
    "version": 3
   },
   "file_extension": ".py",
   "mimetype": "text/x-python",
   "name": "python",
   "nbconvert_exporter": "python",
   "pygments_lexer": "ipython3",
   "version": "3.11.5"
  },
  "orig_nbformat": 4
 },
 "nbformat": 4,
 "nbformat_minor": 2
}
